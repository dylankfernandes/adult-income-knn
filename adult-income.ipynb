{
 "cells": [
  {
   "cell_type": "markdown",
   "metadata": {},
   "source": [
    "# Adult Income Dataset\n",
    "The goal of this program is to build a classifier that can classify income groups based on 14 other features, such as age, gender, and occupation. We also want to find the features that have the most impact with income (age and occupation most notably).\n",
    "\n",
    "First, we have to import the required packages and the dataset itself."
   ]
  },
  {
   "cell_type": "code",
   "execution_count": 2,
   "metadata": {},
   "outputs": [
    {
     "data": {
      "text/html": [
       "<div>\n",
       "<style scoped>\n",
       "    .dataframe tbody tr th:only-of-type {\n",
       "        vertical-align: middle;\n",
       "    }\n",
       "\n",
       "    .dataframe tbody tr th {\n",
       "        vertical-align: top;\n",
       "    }\n",
       "\n",
       "    .dataframe thead th {\n",
       "        text-align: right;\n",
       "    }\n",
       "</style>\n",
       "<table border=\"1\" class=\"dataframe\">\n",
       "  <thead>\n",
       "    <tr style=\"text-align: right;\">\n",
       "      <th></th>\n",
       "      <th>age</th>\n",
       "      <th>workclass</th>\n",
       "      <th>fnlwgt</th>\n",
       "      <th>education</th>\n",
       "      <th>educational-num</th>\n",
       "      <th>marital-status</th>\n",
       "      <th>occupation</th>\n",
       "      <th>relationship</th>\n",
       "      <th>race</th>\n",
       "      <th>gender</th>\n",
       "      <th>capital-gain</th>\n",
       "      <th>capital-loss</th>\n",
       "      <th>hours-per-week</th>\n",
       "      <th>native-country</th>\n",
       "      <th>income</th>\n",
       "    </tr>\n",
       "  </thead>\n",
       "  <tbody>\n",
       "    <tr>\n",
       "      <th>0</th>\n",
       "      <td>25</td>\n",
       "      <td>Private</td>\n",
       "      <td>226802</td>\n",
       "      <td>11th</td>\n",
       "      <td>7</td>\n",
       "      <td>Never-married</td>\n",
       "      <td>Machine-op-inspct</td>\n",
       "      <td>Own-child</td>\n",
       "      <td>Black</td>\n",
       "      <td>Male</td>\n",
       "      <td>0</td>\n",
       "      <td>0</td>\n",
       "      <td>40</td>\n",
       "      <td>United-States</td>\n",
       "      <td>&lt;=50K</td>\n",
       "    </tr>\n",
       "    <tr>\n",
       "      <th>1</th>\n",
       "      <td>38</td>\n",
       "      <td>Private</td>\n",
       "      <td>89814</td>\n",
       "      <td>HS-grad</td>\n",
       "      <td>9</td>\n",
       "      <td>Married-civ-spouse</td>\n",
       "      <td>Farming-fishing</td>\n",
       "      <td>Husband</td>\n",
       "      <td>White</td>\n",
       "      <td>Male</td>\n",
       "      <td>0</td>\n",
       "      <td>0</td>\n",
       "      <td>50</td>\n",
       "      <td>United-States</td>\n",
       "      <td>&lt;=50K</td>\n",
       "    </tr>\n",
       "    <tr>\n",
       "      <th>2</th>\n",
       "      <td>28</td>\n",
       "      <td>Local-gov</td>\n",
       "      <td>336951</td>\n",
       "      <td>Assoc-acdm</td>\n",
       "      <td>12</td>\n",
       "      <td>Married-civ-spouse</td>\n",
       "      <td>Protective-serv</td>\n",
       "      <td>Husband</td>\n",
       "      <td>White</td>\n",
       "      <td>Male</td>\n",
       "      <td>0</td>\n",
       "      <td>0</td>\n",
       "      <td>40</td>\n",
       "      <td>United-States</td>\n",
       "      <td>&gt;50K</td>\n",
       "    </tr>\n",
       "    <tr>\n",
       "      <th>3</th>\n",
       "      <td>44</td>\n",
       "      <td>Private</td>\n",
       "      <td>160323</td>\n",
       "      <td>Some-college</td>\n",
       "      <td>10</td>\n",
       "      <td>Married-civ-spouse</td>\n",
       "      <td>Machine-op-inspct</td>\n",
       "      <td>Husband</td>\n",
       "      <td>Black</td>\n",
       "      <td>Male</td>\n",
       "      <td>7688</td>\n",
       "      <td>0</td>\n",
       "      <td>40</td>\n",
       "      <td>United-States</td>\n",
       "      <td>&gt;50K</td>\n",
       "    </tr>\n",
       "    <tr>\n",
       "      <th>4</th>\n",
       "      <td>18</td>\n",
       "      <td>?</td>\n",
       "      <td>103497</td>\n",
       "      <td>Some-college</td>\n",
       "      <td>10</td>\n",
       "      <td>Never-married</td>\n",
       "      <td>?</td>\n",
       "      <td>Own-child</td>\n",
       "      <td>White</td>\n",
       "      <td>Female</td>\n",
       "      <td>0</td>\n",
       "      <td>0</td>\n",
       "      <td>30</td>\n",
       "      <td>United-States</td>\n",
       "      <td>&lt;=50K</td>\n",
       "    </tr>\n",
       "  </tbody>\n",
       "</table>\n",
       "</div>"
      ],
      "text/plain": [
       "   age  workclass  fnlwgt     education  educational-num      marital-status  \\\n",
       "0   25    Private  226802          11th                7       Never-married   \n",
       "1   38    Private   89814       HS-grad                9  Married-civ-spouse   \n",
       "2   28  Local-gov  336951    Assoc-acdm               12  Married-civ-spouse   \n",
       "3   44    Private  160323  Some-college               10  Married-civ-spouse   \n",
       "4   18          ?  103497  Some-college               10       Never-married   \n",
       "\n",
       "          occupation relationship   race  gender  capital-gain  capital-loss  \\\n",
       "0  Machine-op-inspct    Own-child  Black    Male             0             0   \n",
       "1    Farming-fishing      Husband  White    Male             0             0   \n",
       "2    Protective-serv      Husband  White    Male             0             0   \n",
       "3  Machine-op-inspct      Husband  Black    Male          7688             0   \n",
       "4                  ?    Own-child  White  Female             0             0   \n",
       "\n",
       "   hours-per-week native-country income  \n",
       "0              40  United-States  <=50K  \n",
       "1              50  United-States  <=50K  \n",
       "2              40  United-States   >50K  \n",
       "3              40  United-States   >50K  \n",
       "4              30  United-States  <=50K  "
      ]
     },
     "execution_count": 2,
     "metadata": {},
     "output_type": "execute_result"
    }
   ],
   "source": [
    "import pandas as pd\n",
    "import numpy as np\n",
    "import matplotlib.pyplot as plt\n",
    "import seaborn as sns\n",
    "from sklearn import preprocessing, svm\n",
    "from sklearn.model_selection import train_test_split\n",
    "from sklearn.neighbors import NearestNeighbors\n",
    "\n",
    "df = pd.read_csv('adult.csv')\n",
    "df.head()"
   ]
  },
  {
   "cell_type": "markdown",
   "metadata": {},
   "source": [
    "Before we get to classifying, let's poke around the dataset to find any nuances that might important to consider when training our data.\n",
    "\n",
    "First, let's see if the number of hours a person works has any drastic effect on our income class."
   ]
  },
  {
   "cell_type": "code",
   "execution_count": 47,
   "metadata": {},
   "outputs": [
    {
     "name": "stdout",
     "output_type": "stream",
     "text": [
      "40.619707467282524\n",
      "occupation\n",
      "?                    31.585366\n",
      "Adm-clerical         38.489051\n",
      "Armed-Forces         40.000000\n",
      "Craft-repair         43.326667\n",
      "Exec-managerial      44.563536\n",
      "Farming-fishing      46.540541\n",
      "Handlers-cleaners    36.083333\n",
      "Machine-op-inspct    40.526316\n",
      "Other-service        35.561538\n",
      "Priv-house-serv      32.875000\n",
      "Prof-specialty       42.743750\n",
      "Protective-serv      43.625000\n",
      "Sales                39.954198\n",
      "Tech-support         40.829268\n",
      "Transport-moving     46.451613\n",
      "Name: hours-per-week, dtype: float64\n"
     ]
    },
    {
     "data": {
      "text/plain": [
       "[Text(0, 0.5, 'Average Hours Per Week'),\n",
       " Text(0.5, 0, 'Occupation'),\n",
       " Text(0.5, 1.0, 'Occupation vs. Average Hours Per Week')]"
      ]
     },
     "execution_count": 47,
     "metadata": {},
     "output_type": "execute_result"
    },
    {
     "data": {
      "image/png": "[encoded data removed]",
      "text/plain": [
       "<Figure size 432x288 with 1 Axes>"
      ]
     },
     "metadata": {
      "needs_background": "light"
     },
     "output_type": "display_data"
    }
   ],
   "source": [
    "print(df['hours-per-week'].mean())\n",
    "\n",
    "occ_by_hours = df.groupby('occupation').mean()\n",
    "print(occ_by_hours['hours-per-week'])\n",
    "occ_by_hours.reset_index(inplace=True)\n",
    "\n",
    "graph = sns.barplot(x='occupation', y='hours-per-week', data=occ_by_hours)\n",
    "graph.set_xticklabels(graph.get_xticklabels(), rotation=90)\n",
    "graph.set(xlabel='Occupation', ylabel='Average Hours Per Week', title='Occupation vs. Average Hours Per Week')"
   ]
  },
  {
   "cell_type": "markdown",
   "metadata": {},
   "source": [
    "We can can see that most (known) occupational averages line up with the average of approximately 40.6 hours. One noteable exception is `Priv-house-serv` and `?`, the latter of which remains unnamed.\n",
    "\n",
    "Intuition indicates that higher education leads to higher income. Let's test this theory by following a procedure similar to the one we just performed on occupation."
   ]
  },
  {
   "cell_type": "code",
   "execution_count": 64,
   "metadata": {},
   "outputs": [
    {
     "name": "stdout",
     "output_type": "stream",
     "text": [
      "education     income\n",
      "10th          <=50K      45\n",
      "              >50K        4\n",
      "11th          <=50K      56\n",
      "              >50K        1\n",
      "12th          <=50K      13\n",
      "1st-4th       <=50K       6\n",
      "              >50K        1\n",
      "5th-6th       <=50K      13\n",
      "              >50K        1\n",
      "7th-8th       <=50K      30\n",
      "              >50K        1\n",
      "9th           <=50K      16\n",
      "              >50K        4\n",
      "Assoc-acdm    <=50K      20\n",
      "              >50K       10\n",
      "Assoc-voc     <=50K      36\n",
      "              >50K       12\n",
      "Bachelors     <=50K     136\n",
      "              >50K       84\n",
      "Doctorate     <=50K       6\n",
      "              >50K       10\n",
      "HS-grad       <=50K     332\n",
      "              >50K       81\n",
      "Masters       <=50K      32\n",
      "              >50K       39\n",
      "Preschool     <=50K       4\n",
      "Prof-school   <=50K       6\n",
      "              >50K       21\n",
      "Some-college  <=50K     225\n",
      "              >50K       54\n",
      "Name: age, dtype: int64\n"
     ]
    },
    {
     "data": {
      "text/plain": [
       "[Text(0, 0.5, 'Income Class'),\n",
       " Text(0.5, 0, 'Education'),\n",
       " Text(0.5, 1.0, 'Education vs. Income Class')]"
      ]
     },
     "execution_count": 64,
     "metadata": {},
     "output_type": "execute_result"
    },
    {
     "data": {
      "image/png": "[encoded data removed]",
      "text/plain": [
       "<Figure size 432x288 with 1 Axes>"
      ]
     },
     "metadata": {
      "needs_background": "light"
     },
     "output_type": "display_data"
    }
   ],
   "source": [
    "income_by_education = df.groupby(['education', 'income']).count()\n",
    "print(income_by_education['age'])\n",
    "income_by_education.reset_index(inplace=True)\n",
    "\n",
    "graph = sns.barplot(x='education', y='age', hue='income', data=income_by_education)\n",
    "graph.set_xticklabels(graph.get_xticklabels(), rotation=90)\n",
    "graph.set(xlabel='Education', ylabel='Income Class', title='Education vs. Income Class')"
   ]
  },
  {
   "cell_type": "markdown",
   "metadata": {},
   "source": [
    "Based on the graph, we can infer that \n",
    "* Most people in the survey either graduated high school\n",
    "* Most people make less than 50K\n",
    "* You have greater chance of making more than 50K with higher education"
   ]
  }
 ],
 "metadata": {
  "kernelspec": {
   "display_name": "Python 3",
   "language": "python",
   "name": "python3"
  },
  "language_info": {
   "codemirror_mode": {
    "name": "ipython",
    "version": 3
   },
   "file_extension": ".py",
   "mimetype": "text/x-python",
   "name": "python",
   "nbconvert_exporter": "python",
   "pygments_lexer": "ipython3",
   "version": "3.7.0"
  }
 },
 "nbformat": 4,
 "nbformat_minor": 2
}
